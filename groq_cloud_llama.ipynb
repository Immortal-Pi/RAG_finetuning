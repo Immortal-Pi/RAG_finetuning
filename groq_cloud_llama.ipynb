{
 "cells": [
  {
   "cell_type": "code",
   "execution_count": 3,
   "metadata": {},
   "outputs": [
    {
     "data": {
      "text/plain": [
       "True"
      ]
     },
     "execution_count": 3,
     "metadata": {},
     "output_type": "execute_result"
    }
   ],
   "source": [
    "import os \n",
    "import dotenv\n",
    "from groq import Groq\n",
    "dotenv.load_dotenv()"
   ]
  },
  {
   "cell_type": "code",
   "execution_count": 4,
   "metadata": {},
   "outputs": [],
   "source": [
    "client=Groq(\n",
    "    api_key=os.getenv('GROQ_API_KEY')\n",
    ")"
   ]
  },
  {
   "cell_type": "code",
   "execution_count": 6,
   "metadata": {},
   "outputs": [
    {
     "data": {
      "text/plain": [
       "\"Service Context is a concept used in software design and development, particularly in the context of Service-Oriented Architecture (SOA) and Microservices Architecture.\\n\\n**Definition:** Service Context refers to the environment and configuration settings in which a service operates. It includes the parameters, constraints, and definitions that influence the behavior and interactions of a service.\\n\\n**Components of Service Context:**\\n\\n1. **Service Definition**: The service contract, interface, and API that define what the service does and how it interacts with other services.\\n2. **Configuration Settings**: Parameters and values that control the behavior of the service, such as logging levels, authentication settings, and timeout values.\\n3. **Contextual Information**: Data and metadata that is relevant to the service's operation, such as user credentials, request IDs, and correlation IDs.\\n4. **Dependencies**: Other services or components that the service relies on to function correctly.\\n5. **Infrastructure**: The underlying technology infrastructure, such as servers, networks, and databases, that supports the service.\\n\\n**Purpose of Service Context:**\\n\\nThe Service Context provides a framework for services to operate within a well-defined environment, ensuring that they behave correctly and interact consistently with other services. By defining the Service Context, developers can:\\n\\n1. **Improve Service Design**: Create services that are modular, reusable, and maintainable.\\n2. **Enhance Service Integration**: Ensure seamless interactions between services and other components.\\n3. **Simplify Testing and Debugging**: Provide a consistent environment for testing and debugging services.\\n4. **Increase Scalability and Flexibility**: Allow services to adapt to changing requirements and infrastructure.\\n\\n**Example:**\\n\\nConsider a payment processing service that operates within an e-commerce platform. The Service Context for this service might include:\\n\\n* Service Definition: The payment API and payment processing logic.\\n* Configuration Settings: Merchant ID, API keys, and payment gateway settings.\\n* Contextual Information: User credentials, payment amount, and payment method.\\n* Dependencies: Other services, such as order management and inventory management.\\n* Infrastructure: The underlying server infrastructure and payment gateway connections.\\n\\nBy understanding the Service Context, developers can design and develop payment processing services that operate efficiently and effectively within the e-commerce platform.\""
      ]
     },
     "execution_count": 6,
     "metadata": {},
     "output_type": "execute_result"
    }
   ],
   "source": [
    "chat_completion=client.chat.completions.create(\n",
    "    messages=[\n",
    "        {\n",
    "            'role':'user',\n",
    "            'content':'what is service context?'\n",
    "        }\n",
    "    ],\n",
    "    model='llama-3.1-70b-versatile'\n",
    ")\n",
    "chat_completion.choices[0].message.content"
   ]
  },
  {
   "cell_type": "code",
   "execution_count": null,
   "metadata": {},
   "outputs": [],
   "source": []
  }
 ],
 "metadata": {
  "kernelspec": {
   "display_name": "genai",
   "language": "python",
   "name": "python3"
  },
  "language_info": {
   "codemirror_mode": {
    "name": "ipython",
    "version": 3
   },
   "file_extension": ".py",
   "mimetype": "text/x-python",
   "name": "python",
   "nbconvert_exporter": "python",
   "pygments_lexer": "ipython3",
   "version": "3.10.15"
  }
 },
 "nbformat": 4,
 "nbformat_minor": 2
}
