{
 "cells": [
  {
   "cell_type": "code",
   "execution_count": null,
   "metadata": {},
   "outputs": [
    {
     "data": {
      "text/plain": [
       "True"
      ]
     },
     "execution_count": 1,
     "metadata": {},
     "output_type": "execute_result"
    }
   ],
   "source": [
    "import os \n",
    "import dotenv\n",
    "from groq import Groq\n",
    "dotenv.load_dotenv()"
   ]
  },
  {
   "cell_type": "code",
   "execution_count": 2,
   "metadata": {},
   "outputs": [],
   "source": [
    "client=Groq(\n",
    "    api_key=os.getenv('GROQ_API_KEY')\n",
    ")"
   ]
  },
  {
   "cell_type": "code",
   "execution_count": 3,
   "metadata": {},
   "outputs": [
    {
     "data": {
      "text/plain": [
       "'A service context is an abstract concept that defines the environment and conditions under which a service is provided. It includes various elements that influence how a service is delivered, perceived, and experienced by customers, users, or stakeholders. The service context encompasses multiple dimensions and factors that shape the service interaction.\\n\\nCommon elements of a service context include:\\n\\n1. **Physical environment**: The physical space where the service is delivered, such as a store, restaurant, or hospital.\\n2. **Social environment**: The social interactions between customers, service providers, and other stakeholders, such as culture, norms, and relationships.\\n3. **Technological environment**: The technology used to deliver the service, such as software, hardware, and infrastructure.\\n4. **Policy and regulatory environment**: The laws, regulations, and policies that govern the service, such as data protection, health and safety, and industry standards.\\n5. **Organizational environment**: The internal processes, procedures, and culture of the service provider organization, such as training, communication, and customer service procedures.\\n6. **Cultural environment**: The cultural background, values, and expectations of customers, service providers, and stakeholders.\\n7. **Economic environment**: The economic conditions, such as pricing, competition, and market trends, that affect the service.\\n\\nUnderstanding the service context is crucial for designing, delivering, and improving services, as it helps organizations:\\n\\n1. **Design services** that meet customer needs and expectations\\n2. **Manage customer experiences** effectively\\n3. **Improve service quality** and performance\\n4. **Develop competitive strategies** that differentiate the service from others\\n5. **Build strong relationships** with customers, partners, and stakeholders\\n\\nBy considering the various elements of the service context, organizations can create services that are tailored to customer needs, building trust, loyalty, and long-term relationships.'"
      ]
     },
     "execution_count": 3,
     "metadata": {},
     "output_type": "execute_result"
    }
   ],
   "source": [
    "chat_completion=client.chat.completions.create(\n",
    "    messages=[\n",
    "        {\n",
    "            'role':'user',\n",
    "            'content':'what is service context?'\n",
    "        }\n",
    "    ],\n",
    "    model='llama-3.1-70b-versatile'\n",
    ")\n",
    "chat_completion.choices[0].message.content"
   ]
  },
  {
   "cell_type": "code",
   "execution_count": 4,
   "metadata": {},
   "outputs": [],
   "source": [
    "# try using langchain for groq"
   ]
  }
 ],
 "metadata": {
  "kernelspec": {
   "display_name": "genai",
   "language": "python",
   "name": "python3"
  },
  "language_info": {
   "codemirror_mode": {
    "name": "ipython",
    "version": 3
   },
   "file_extension": ".py",
   "mimetype": "text/x-python",
   "name": "python",
   "nbconvert_exporter": "python",
   "pygments_lexer": "ipython3",
   "version": "3.10.15"
  }
 },
 "nbformat": 4,
 "nbformat_minor": 2
}
