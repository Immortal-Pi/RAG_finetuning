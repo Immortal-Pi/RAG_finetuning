{
 "cells": [
  {
   "cell_type": "markdown",
   "metadata": {},
   "source": [
    "# fine tuning with together.AI"
   ]
  },
  {
   "cell_type": "code",
   "execution_count": 5,
   "metadata": {},
   "outputs": [
    {
     "data": {
      "text/plain": [
       "True"
      ]
     },
     "execution_count": 5,
     "metadata": {},
     "output_type": "execute_result"
    }
   ],
   "source": [
    "from together import Together\n",
    "import os\n",
    "import dotenv\n",
    "dotenv.load_dotenv()"
   ]
  },
  {
   "cell_type": "code",
   "execution_count": 6,
   "metadata": {},
   "outputs": [],
   "source": [
    "client=Together(api_key=os.getenv('TOGETHER_API_KEY'))"
   ]
  },
  {
   "cell_type": "code",
   "execution_count": 29,
   "metadata": {},
   "outputs": [
    {
     "name": "stdout",
     "output_type": "stream",
     "text": [
      "The questions of \"what is life?\" and \"what is its purpose?\" have been debated and explored by philosophers, scientists, theologians, and thinkers across various disciplines for centuries. While there is no definitive answer, here's a comprehensive overview of the different perspectives:\n",
      "\n",
      "**Biological Perspective:**\n",
      "From a biological standpoint, life is a complex process that involves the organization of molecules, cells, and organisms. It is characterized by the ability to grow, reproduce, respond to stimuli, and maintain homeostasis. This perspective views life as a natural phenomenon that emerged on Earth through the process of evolution.\n",
      "\n",
      "**Philosophical Perspective:**\n",
      "Philosophers have offered various definitions of life, including:\n",
      "\n",
      "1. **Vitalism:** The idea that life is a non-physical, essential force that animates living beings.\n",
      "2. **Mechanistic:** The view that life is a complex machine that can be understood through its constituent parts and their interactions.\n",
      "3. **Holistic:** The perspective that life is a unified, interconnected system that cannot be reduced to its individual components.\n",
      "\n",
      "**Purpose of Life:**\n",
      "The question of life's purpose is even more subjective and has been explored by various disciplines:\n",
      "\n",
      "1. **Religious and Spiritual:** Many religious and spiritual traditions believe that life has a divine or transcendent purpose, such as fulfilling a higher power's will, achieving spiritual enlightenment, or realizing one's true nature.\n",
      "2. **Existentialist:** Existentialist philosophers argue that life has no inherent purpose, and it is up to individuals to create their own meaning and purpose.\n",
      "3. **Humanistic:** Humanistic perspectives emphasize the importance of human experience, relationships, and personal growth, suggesting that life's purpose is to cultivate happiness, fulfillment, and self-actualization.\n",
      "4. **Evolutionary:** From an evolutionary perspective, life's purpose is to survive, reproduce, and perpetuate the species.\n",
      "\n",
      "**Other Perspectives:**\n",
      "Other disciplines, such as psychology, sociology, and anthropology, offer additional insights into the nature and purpose of life:\n",
      "\n",
      "1. **Psychological:** Life's purpose is to achieve psychological well-being, happiness, and self-fulfillment.\n",
      "2. **Sociological:** Life's purpose is to contribute to the greater good, participate in social relationships, and maintain social order.\n",
      "3. **Anthropological:** Life's purpose is to create meaning and culture through human experiences, relationships, and interactions.\n",
      "\n",
      "In conclusion, the questions of \"what is life?\" and \"what is its purpose?\" are complex and multifaceted, with various disciplines offering distinct perspectives. Ultimately, the answer may depend on individual beliefs, values, and experiences."
     ]
    }
   ],
   "source": [
    "# check if API is working\n",
    "stream=client.chat.completions.create(\n",
    "    model=os.getenv('TOGETHERAI_MODEL_NAME'), #meta llama 3.1 7b\n",
    "    # model='amruthpaiuni/Meta-Llama-3-8B-Instruct-llama-law-405B-Instruct-Turbo-43ad47fe',\n",
    "    messages=[\n",
    "        {\n",
    "        'role':'user',\n",
    "        'content':'what is life? what is its purpose?'\n",
    "        }\n",
    "    ],\n",
    "    stream=True,\n",
    ")\n",
    "for chunk in stream:\n",
    "    print(chunk.choices[0].delta.content or \"\",end=\"\", flush=True)"
   ]
  },
  {
   "cell_type": "code",
   "execution_count": 8,
   "metadata": {},
   "outputs": [
    {
     "name": "stdout",
     "output_type": "stream",
     "text": [
      "[-0.013148682, -0.068655774, 0.013548881, -0.014697075, -0.015767198, 0.021059586, 0.06448748, -0.08056574, 0.010573696, -0.014751823, 0.01213288, -0.08379289, 0.03079088, -0.011853566, 0.07861586, 0.069362216, -0.04998, -0.02392456, 0.015476803, -0.0007333028, -0.013277009, 0.017329935, -0.079270855, -0.040862862, 0.026545297, -0.03596333, -0.02750488, -0.030646235, 0.025378054, 0.04774166, -0.027231393, 0.044455796, -0.09527628, -0.04886891, -0.010372312, 0.04133453, 0.013665169, -0.033264294, 0.031922348, 0.06390309, -0.069591306, 0.00065552804, 0.028914468, -0.042982493, 0.03540486, 0.0022445964, -0.08069806, -0.0046245283, 0.10867481, -0.01209722, -0.013123243, -0.011249201, -0.044914443, 0.02096243, 0.055272054, -0.04973716, 0.03702042, 0.082806766, 0.05003372, -0.027347509, -0.021704955, -0.054740753, -0.014940327, -0.003401814, -0.0071875905, -0.098338276, 0.011742407, -0.060291838, 0.02775296, -0.059192613, -0.030467413, -0.01651141, 0.059013832, -0.0028378346, -0.05764156, -0.05208595, 0.093180716, -0.09103776, -0.013632235, -0.0461573, -0.037348732, 0.0077013043, -0.008878828, 0.018611854, 0.056300964, 0.012441856, 0.07399536, -0.03678204, -0.006410981, -0.004471792, 0.046642024, 0.011802684, 0.10551258, -0.051829774, 0.063371785, 0.0053278184, 0.035880625, 0.06486184, -0.012361433, -0.15527895, -0.07226796, -0.016353557, 0.026510246, -0.05654991, 0.059947267, -0.05709261, -0.090712585, -0.045777958, 0.05870586, -0.0418936, 0.010275846, -0.07031459, -0.018576246, 0.043454237, 0.047108952, -0.039688375, -0.027649252, -0.12311832, -0.04464138, 0.030574046, 0.04003432, 0.06217237, 0.010470695, -0.037264965, 0.057032194, 0.026883557, 0.08635264, -0.03622054, 0.0787275, -0.08471611, -0.013891042, -0.0018732586, -0.07694351, 0.03498095, -0.023736749, 0.05773704, -0.031842925, 0.0053158943, -0.040287748, -0.019336192, 0.038053382, 0.0196584, 0.08214225, -0.015399801, -0.053450763, 0.066450976, -0.011125772, -0.014512808, 0.02660629, 0.048433285, 0.03054992, -0.017949376, -0.002837084, -0.019267684, -0.06435422, 0.051935926, -0.00336626, -0.1259479, -0.03833134, 0.12826602, 0.04084016, -0.0047392584, -0.043263633, -0.04988036, 0.03529167, -0.0011065654, -0.019342871, 0.049960006, -0.029876655, 0.019475073, 0.098015845, -0.055156954, 0.016578322, 0.021733496, -0.03696334, 0.0065286946, 0.05652439, 0.014330208, 0.022313574, -0.027445378, -0.023071585, 0.012827073, 0.006810068, 0.039501723, -0.017693905, -0.05798633, 0.033353686, 0.07404294, 0.07719944, -0.072581224, 0.03749384, -0.11058066, -0.021260258, -0.0025450606, -0.0072152293, -0.056765355, 0.01970918, 0.04990704, -0.09760732, 0.03383325, -0.06321741, 0.050284002, -0.023605179, 0.050942183, 0.02355645, -0.023441013, -0.012292487, 0.030597197, -0.070000775, 0.021062162, -0.009647199, 0.014055207, -0.019907197, 0.030183926, 0.0227316, 0.013979664, -0.060622897, -0.04352894, 0.10640527, 0.025007173, 0.042534348, 0.014379033, 0.0303015, 0.058481842, -0.030864397, -0.0035545933, 0.0071981815, 0.030622045, -0.05357175, 0.003496982, 0.010290431, -0.08856615, 0.0029889815, -0.022940949, 0.0422819, -0.0037857858, 0.030097783, -0.02012981, 0.082468934, 0.031845834, 0.029174082, 0.05053678, -0.09229831, 0.054254826, -0.0077050743, -0.017650064, -0.038997896, -0.08854299, -0.060633454, -0.014431367, 0.010416242, 0.056119226, 0.004687912, 0.036712963, -0.055349536, -0.046029802, 0.02390196, -0.0021534958, -0.0098450165, 0.092306025, -0.007638686, -0.037577294, -0.022969395, 0.051001556, 0.004760873, 0.026317384, 0.060083624, 0.03661272, -0.0446767, 0.06974667, 0.029565968, 0.067287326, 0.067200676, -0.046494525, -0.07390275, -0.011839994, 0.08551611, 0.012734474, 0.0677253, 0.037831932, 0.0071013197, -0.08533882, 0.034558423, -0.01967761, 0.048733108, -0.048698958, 0.06516726, -0.025492499, -0.06234675, 0.0060669165, 0.013955644, -0.047900364, -0.025854573, 0.07548601, 0.01732609, -0.011140495, 0.012214184, -0.06709848, 0.017224103, -0.011229153, 0.0377994, -0.012497656, -0.04516905, 0.037255894, -0.053658575, -0.049161002, -0.06899502, 0.03743866, -0.027832005, -0.050137073, 0.02599279, 0.01551939, 0.053954445, -0.0065093613, 0.00432117, 0.03187265, 0.02295059, 0.030114593, 0.029162113, 0.044393905, 0.022701304, 0.03831093, -0.0077976487, 0.07564731, 0.01186665, -0.03558339, -0.011493002, 0.04618037, 0.0101744225, -0.101433806, 0.0003378177, -0.038962256, 0.08658284, 0.0018859782, -0.024039125, -0.040756006, 0.005035343, 0.012693668, 0.075762026, 0.034361456, 0.09104593, 0.024506168, -0.040216714, 0.022041356, -0.06527039, -0.06727994, -0.07727726, -0.08904078, 0.014084589, 0.08512823, 0.052697346, -0.013697244, 0.00897839, -0.057847843, -0.015318499, 0.063111044, 0.015573185, -0.02930321, -0.057675425, 0.046736978, 0.04144445, -0.039455105, -0.044900715, -0.020765511, -0.026839584, -0.034199458, 0.03403159, -0.062617816, 0.06678472, 0.003497929, 0.008112521, 0.07547126, -0.037085652, -0.022666255, -0.021457726, 0.088619724, 0.010451182, -0.046942946, 0.0716466, 0.09625121, -0.0005736956, -0.033429474, 0.03657693, -0.06676557, -0.0064988043, -0.04834425, 0.10400106, -0.016899709, -0.0064369207, -0.00588015, 0.03794646, 0.050098024, -0.059273805, 0.038877077, -0.038583994, 0.038122512, 0.020952865, 0.015748434, 0.039452676, -0.020272052, 0.025219847, 0.021319393, 0.032722026, 0.0032911724, 0.10282281, 0.009188155, 0.0049944823, 0.033266522, 0.015311993, 0.009397907, 0.076474905, 0.041062023, 0.009083416, 0.0625042, -0.030634534, -0.023820976, 0.07297775, -0.01540549, 0.0055335923, 0.056837454, -0.08708985, 0.02371705, -0.054748897, -0.0078625735, 0.047844764, 0.0405058, -0.021533411, 0.020727307, 0.104503386, -0.048358005, 0.05178703, -0.063171305, 0.034842867, 0.01704374, 0.0057291915, -0.06876894, -0.078825355, 0.029401897, 0.0727376, -0.017312275, -0.04709849, 0.08263452, -0.004208065, -0.027433023, -0.026221773, -0.040447388, -0.053159576, -0.0023002957, 0.0065190475, 0.006711755, -0.040474705, 0.08603345, 0.034650672, -0.036887933, 0.060291175, -0.05874932, -0.02564591, -0.030451268, 0.022076413, 0.13397756, 0.0037530595, 0.043113135, -0.112042114, -0.018825933, 0.03962057, 0.059906017, -0.0997282, 0.0043389713, -0.0003382312, -0.028393911, 0.01861966, -0.030899191, 0.0135272015, -0.08129196, -0.027279839, -0.049585354, -0.011672843, 0.050318148, -0.027272, 0.107407995, -0.039638873, 0.059264638, 0.07283278, 0.011349999, 0.063596524, 0.11343857, 0.0014808428, 0.0038294476, -0.021466548, -0.07916614, 0.024388874, 0.07678981, -0.0058466014, -0.032168895, 0.05675278, 0.0077491975, 0.03815776, 0.016331822, 0.023599578, -0.020698387, 0.040079962, 0.06554799, -0.0069283117, -0.026631756, 0.005489317, 0.07583898, -0.00390851, -0.023149299, -0.014714981, 0.08698784, 0.008041656, -0.03635006, 0.0425059, 0.024059461, 0.019578824, -0.045648392, -0.08375454, -0.086501054, 0.014628864, -0.065058984, 0.04042087, -0.014412975, -0.0021061364, 0.04671491, -0.13443178, 0.047042836, -0.03131838, -0.015100061, -0.06287103, -0.029806932, -0.00409517, -0.055912934, -0.10290596, -0.09460035, 0.037567858, 0.061819833, -0.01809889, 0.018192539, -0.026893409, -0.03516954, 0.026898764, 0.0023237853, 0.00030741282, -0.049527414, -0.07772491, 0.04011732, 0.023598243, -0.020161362, 0.032816686, -0.0075554303, -0.020653794, 0.010351047, 0.034311082, 0.07160098, -0.07262691, -0.04459296, 0.026647296, 0.079574265, -0.01592485, 0.037274666, 0.09982931, 0.05627534, 0.02864086, 0.020519735, 0.053291976, 0.06320297, -0.034563836, 0.09707484, 0.05449193, -0.0977756, 0.026339756, -0.058248263, -0.025596898, 0.035612606, 0.012798453, -0.014941296, -0.004580652, -0.021156935, -0.059165224, 0.019045612, -0.11470948, -0.0931657, -0.06402429, -0.05109865, 0.07722578, 0.04845093, -0.008112344, -0.0018625424, -0.09623594, 0.04361474, -0.019438406, -0.06455377, -0.0312487, 0.016386552, -0.10022012, 0.004683826, -0.0021721323, 0.020272637, 0.07033334, 0.0011997627, 0.00047431324, -0.0099912835, 0.0521124, -0.03582489, -0.074720174, -0.02269989, -0.025389144, 0.07498178, 0.0069935783, -0.048391983, -0.041781534, -0.03370207, 0.042266555, -0.05750764, 0.005467053, -0.094427526, -0.023459705, -0.07827, 0.0076227053, -0.06297099, -0.10418786, 0.06912663, -0.019817965, 0.0698414, 0.061823934, -0.0141665, 0.0021487796, 0.0130714625, -0.033855345, -0.08059159, 0.05826209, -0.03939874, 0.0236911, 0.007642897, 0.12396038, -0.006162636, 0.08852764, 0.07368121, 0.06464595, 0.0072995955, 0.040783253, 0.04626705, -0.02981398, -0.015565444, -0.07060608, -0.033702414, 0.0047093392, -0.027110957, -0.06873318, -0.07038944, 0.025992248, -0.0096268775, -0.064384885, -0.074882135, -0.039321467, -0.062684305, -0.027732708, 0.05341792, 0.0045393235, -0.017827753, 0.063323416, 0.036005586, -0.017927045, -0.01695108, 0.024235746, -0.022083232, -0.022328699, -0.0976755, -0.061345864, 0.010349906, -0.021552837, 0.0007699298, -0.009799377, 0.083477296, 0.0050804135, -0.086376436, -0.04620412, 0.052043054, -0.069405496, 0.004662273, -0.043559443, 0.08413377, 0.04598005, 0.00278868, 0.025231764, 0.047383748, -0.04938713, 0.041322965, 0.019275503, 0.07062778, 0.011080653, 0.0015371486, -0.040732436, 0.026412511, 0.015788775, 0.042554606, -0.04394846, 0.01853702, -0.06813189, -0.046755638, 0.06607745, 0.05086631, 0.050419867, 0.039368685, 0.009294013, 0.06618892, 0.029848231, -0.10122183, 0.009592138, -0.04362294, 0.05417461, -0.030540206, -0.024993436, -0.05623826, -0.022208916, 0.077643156, 0.0518227, 0.005914893, -0.015414343, -0.048725866, 0.056386113, 0.03749651, 0.0025064184, -0.014942383, -0.033098046, -0.060871094, -0.012091651, -0.027317395, 0.07330123, 0.051129878, -0.026667148, -0.057112634, 0.038351595, -0.012463174, -0.05655786, -0.096497715, -0.069028616, -0.01421876, -0.043990888, 0.037326742, -0.038253967, -0.10458343, 0.11260144, 0.0037098292, -0.03698451, -0.020835657, -0.07938042, -0.089196905, 0.011664201, 0.009732345, -0.031846557, 0.01902972, 0.07150226, -0.045634832, -0.039107885, 0.033704475, -0.0070684818, -0.0041515906, 0.023885032, -0.036958754, 0.04755248, -0.010160484, -0.065201275, 0.043216437, -0.09522283, -0.060540207, -0.04305755, 0.014302124]\n"
     ]
    }
   ],
   "source": [
    "# create embeddings \n",
    "response=client.embeddings.create(\n",
    "    model=os.getenv('TOGETHERAI_EMBEDDING_MODEL_NAME'),\n",
    "    input='Amruth Pai, The man who started the AI Automation revolution',\n",
    ")\n",
    "print(response.data[0].embedding)"
   ]
  },
  {
   "cell_type": "markdown",
   "metadata": {},
   "source": [
    "# fine tuning the model using instruction dataset "
   ]
  },
  {
   "cell_type": "code",
   "execution_count": 9,
   "metadata": {},
   "outputs": [],
   "source": [
    "# convert the json file to jsonl file \n",
    "import json\n",
    "with open ('../data/laywer_response_instruct.json','r') as f:\n",
    "    file=f.read()\n",
    "# print(file)\n",
    "parsed_json=json.loads(file)"
   ]
  },
  {
   "cell_type": "code",
   "execution_count": 19,
   "metadata": {},
   "outputs": [],
   "source": [
    "import json\n",
    "\n",
    "dataset = \"laywer_response_instruct\"\n",
    "old_file_path = f\"../data/{dataset}.json\"\n",
    "new_file_path = f\"../data/Formatted{dataset}.jsonl\"\n",
    "\n",
    "# Load old format JSON data\n",
    "with open(old_file_path, \"r\", encoding=\"utf-8\") as old_file:\n",
    "    old_data = json.load(old_file)\n",
    "\n",
    "# Define Llama-3 prompt and system prompt\n",
    "llama_format = \"\"\"\n",
    "<|begin_of_text|><|start_header_id|>system<|end_header_id|>\n",
    "{system_prompt}<|eot_id|><|start_header_id|>user<|end_header_id|>\n",
    "{user_question}<|eot_id|><|start_header_id|>assistant<|end_header_id|>\n",
    "{model_answer}<|eot_id|>\n",
    "\"\"\"\n",
    "formatted_data = []\n",
    "system_prompt = \"You're a lawyer assisting an iimigrant who needs legal assistance\"\n",
    "\n",
    "# Transform the data into the correct format and write it to a JSONL file\n",
    "with open(new_file_path, \"w\", encoding=\"utf-8\") as new_file:\n",
    "    for piece in old_data:\n",
    "        temp_data = {\n",
    "            \"text\": llama_format.format(\n",
    "                system_prompt=system_prompt,\n",
    "                user_question=piece[\"instruction\"],\n",
    "                model_answer=piece[\"output\"],\n",
    "            )\n",
    "        }\n",
    "        new_file.write(json.dumps(temp_data))\n",
    "        new_file.write(\"\\n\")\n"
   ]
  },
  {
   "cell_type": "code",
   "execution_count": 20,
   "metadata": {},
   "outputs": [
    {
     "name": "stdout",
     "output_type": "stream",
     "text": [
      "{'is_check_passed': True, 'message': 'Checks passed', 'found': True, 'file_size': 7794626, 'utf8': True, 'line_type': True, 'text_field': True, 'key_value': True, 'min_samples': True, 'num_samples': 9241, 'load_json': True, 'filetype': 'jsonl'}\n"
     ]
    }
   ],
   "source": [
    "from together.utils import check_file\n",
    "\n",
    "report = check_file(new_file_path)\n",
    "print(report)\n",
    "assert report[\"is_check_passed\"] == True"
   ]
  },
  {
   "cell_type": "code",
   "execution_count": 21,
   "metadata": {},
   "outputs": [
    {
     "name": "stderr",
     "output_type": "stream",
     "text": [
      "Uploading file Formattedlaywer_response_instruct.jsonl: 100%|██████████| 7.79M/7.79M [00:03<00:00, 2.34MB/s]\n"
     ]
    }
   ],
   "source": [
    "# upload the dataset for taining \n",
    "client=Together(api_key=os.getenv('TOGETHER_API_KEY'))\n",
    "response=client.files.upload(file='../data/Formattedlaywer_response_instruct.jsonl')\n",
    "filesID=response.model_dump()['id']"
   ]
  },
  {
   "cell_type": "code",
   "execution_count": 22,
   "metadata": {},
   "outputs": [
    {
     "name": "stdout",
     "output_type": "stream",
     "text": [
      "id='file-f29025b2-6e46-4772-a3d5-67ba34f1bbfd' object=<ObjectType.File: 'file'> created_at=1731246749 type=None purpose=<FilePurpose.FineTune: 'fine-tune'> filename='Formattedlaywer_response_instruct.jsonl' bytes=7794626 line_count=0 processed=True FileType='jsonl'\n"
     ]
    }
   ],
   "source": [
    "# verify the file upload \n",
    "file_metadata=client.files.retrieve(filesID)\n",
    "print(file_metadata)"
   ]
  },
  {
   "cell_type": "markdown",
   "metadata": {},
   "source": [
    "# start fine-tuning jobs"
   ]
  },
  {
   "cell_type": "code",
   "execution_count": null,
   "metadata": {},
   "outputs": [],
   "source": [
    "resp=client.fine_tuning.create(\n",
    "    suffix='llama3-law-8B-Instruct-Turbo3',\n",
    "    model='meta-llama/Meta-Llama-3-8B-Instruct',\n",
    "    training_file=filesID,\n",
    "    n_epochs=4,\n",
    "    batch_size=8,\n",
    "    learning_rate=1e-5,\n",
    ")\n",
    "\n"
   ]
  },
  {
   "cell_type": "code",
   "execution_count": 31,
   "metadata": {},
   "outputs": [
    {
     "name": "stdout",
     "output_type": "stream",
     "text": [
      "id='ft-7f393a1d-09f7-4cf0-afd4-5dd409b9b294' training_file='file-f29025b2-6e46-4772-a3d5-67ba34f1bbfd' validation_file='' model='meta-llama/Meta-Llama-3-8B-Instruct' output_name='amruthpaiuni/Meta-Llama-3-8B-Instruct-llama-law-405B-Instruct-Turbo2-fb896b74' adapter_output_name=None n_epochs=5 n_checkpoints=1 n_evals=0 batch_size=8 learning_rate=1e-05 warmup_ratio=0.0 eval_steps=0 training_type=FullTrainingType(type='Full') created_at='2024-11-10T14:28:56.735Z' updated_at='2024-11-10T14:28:56.735Z' status=<FinetuneJobStatus.STATUS_PENDING: 'pending'> job_id='' events=[FinetuneEvent(object=<ObjectType.FinetuneEvent: 'fine-tune-event'>, created_at='2024-11-10T14:28:56.735Z', level=<FinetuneEventLevels.NULL: ''>, message='Fine tune request created', type=<FinetuneEventType.JOB_PENDING: 'JOB_PENDING'>, param_count=0, token_count=0, wandb_url='', hash='', eval_token_count=0, total_steps=0, step=0, checkpoint_path='', model_path='', adapter_path='', training_offset=0)] token_count=0 param_count=0 total_price=0 total_steps=0 steps_completed=0 epochs_completed=0 evals_completed=0 queue_depth=0 wandb_project_name='' wandb_url='' training_file_num_lines=0 training_file_size=7794626 model_output_path='s3://together-dev/finetune/672f76871000427c8311af57/amruthpaiuni/Meta-Llama-3-8B-Instruct-llama-law-405B-Instruct-Turbo2-fb896b74/ft-7f393a1d-09f7-4cf0-afd4-5dd409b9b294' adapter_output_path='' Suffix='llama-law-405B-Instruct-Turbo2' user_id='672f76871000427c8311af57' staring_epoch=0 training_offset=0 checkspoint_path='' random_seed='' owner_address='0x64ef6968564067b48c5663113fbec917445fa6ef' eval_token_count=0 steps_paid_for=0 train_price=0 eval_price=0 evals_paid_for=0 enable_checkpoints=False checkpoints=[] internal_flags='' max_steps=-1 save_steps=0 warmup_steps=0 lr_scheduler_type='' gpus_per_node=8 per_device_batch_size=0 per_device_eval_batch_size=0 gradient_accumulation_steps=1 train_on_inputs=None wandb_key='' wandb_name='' UsedModelName='' job_stats={'FtUserTime': '', 'FtSysTime': '', 'FtMaxRss': 0, 'FtMinPgFlt': 0, 'FtMajPgFlt': 0, 'FtInBlock': 0, 'FtOutBlock': 0, 'FtNvCsw': 0, 'FtNivCsw': 0}\n"
     ]
    }
   ],
   "source": [
    "print(resp)"
   ]
  },
  {
   "cell_type": "code",
   "execution_count": null,
   "metadata": {},
   "outputs": [],
   "source": []
  }
 ],
 "metadata": {
  "kernelspec": {
   "display_name": "genai",
   "language": "python",
   "name": "python3"
  },
  "language_info": {
   "codemirror_mode": {
    "name": "ipython",
    "version": 3
   },
   "file_extension": ".py",
   "mimetype": "text/x-python",
   "name": "python",
   "nbconvert_exporter": "python",
   "pygments_lexer": "ipython3",
   "version": "3.10.15"
  }
 },
 "nbformat": 4,
 "nbformat_minor": 2
}
