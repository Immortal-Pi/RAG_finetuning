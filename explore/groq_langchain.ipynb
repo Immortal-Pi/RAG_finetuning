{
 "cells": [
  {
   "cell_type": "code",
   "execution_count": 85,
   "metadata": {},
   "outputs": [
    {
     "data": {
      "text/plain": [
       "True"
      ]
     },
     "execution_count": 85,
     "metadata": {},
     "output_type": "execute_result"
    }
   ],
   "source": [
    "import os \n",
    "import streamlit\n",
    "from langchain_groq import ChatGroq\n",
    "from langchain_community.document_loaders import WebBaseLoader\n",
    "from langchain_community.embeddings import OllamaEmbeddings\n",
    "from langchain_community.vectorstores import FAISS\n",
    "from langchain_core.prompts import ChatPromptTemplate\n",
    "from langchain.chains.combine_documents import create_stuff_documents_chain\n",
    "from langchain.chains import create_retrieval_chain\n",
    "from langchain.text_splitter import RecursiveCharacterTextSplitter\n",
    "from langchain.chains import RetrievalQA\n",
    "import dotenv \n",
    "dotenv.load_dotenv()\n"
   ]
  },
  {
   "cell_type": "markdown",
   "metadata": {},
   "source": [
    "# login hugging face and setup llm"
   ]
  },
  {
   "cell_type": "code",
   "execution_count": 54,
   "metadata": {},
   "outputs": [
    {
     "name": "stdout",
     "output_type": "stream",
     "text": [
      "Token is valid (permission: fineGrained).\n",
      "Your token has been saved in your configured git credential helpers (manager).\n",
      "Your token has been saved to C:\\Users\\26amr\\.cache\\huggingface\\token\n",
      "Login successful\n"
     ]
    }
   ],
   "source": [
    "\n",
    "from huggingface_hub import login\n",
    "llm=ChatGroq(\n",
    "    groq_api_key=os.getenv('GROQ_API_KEY'),\n",
    "    model_name='llama-3.1-70b-versatile',\n",
    "    temperature=0.2,\n",
    "    \n",
    "    \n",
    ")\n",
    "login(token=os.getenv('HUGGINGFACEHUB_API_TOKEN'),add_to_git_credential=True)\n"
   ]
  },
  {
   "cell_type": "markdown",
   "metadata": {},
   "source": [
    "# split the data into chunks "
   ]
  },
  {
   "cell_type": "code",
   "execution_count": 55,
   "metadata": {},
   "outputs": [],
   "source": [
    "from llama_index.core import VectorStoreIndex, SimpleDirectoryReader, load_index_from_storage, StorageContext\n",
    "from llama_index.vector_stores.faiss import FaissVectorStore\n",
    "# import faiss\n",
    "# embeddings=OllamaEmbeddings()\n",
    "# loader=WebBaseLoader('https://en.wikipedia.org/wiki/Elon_Musk')\n",
    "# docs=loader.load()\n",
    "# text_splitter=RecursiveCharacterTextSplitter(chunk_size=1000,chunk_overlap=200)\n",
    "# documents=text_splitter.split_documents(docs)\n",
    "# print(documents)\n",
    "\n",
    "documents=SimpleDirectoryReader('../data/').load_data()\n",
    "\n"
   ]
  },
  {
   "cell_type": "code",
   "execution_count": 56,
   "metadata": {},
   "outputs": [],
   "source": [
    "import faiss\n",
    "d=1536\n",
    "faiss_index=faiss.IndexFlatL2(d)\n",
    "from llama_index.embeddings.huggingface import HuggingFaceEmbedding\n",
    "from llama_index.core import VectorStoreIndex, SimpleDirectoryReader \n",
    "from llama_index.vector_stores.faiss import FaissVectorStore\n",
    "from llama_index.core import Settings\n",
    "embed_model=HuggingFaceEmbedding(\n",
    "    model_name='BAAI/bge-small-en-v1.5'\n",
    ")\n",
    "# document_text=[doc.page_content for doc in documents]\n",
    "# embeddings=[embed_model.embed_query(text) for text in document_text]\n",
    "\n"
   ]
  },
  {
   "cell_type": "code",
   "execution_count": 57,
   "metadata": {},
   "outputs": [],
   "source": [
    "from llama_index.core import Settings\n",
    "\n",
    "Settings.chunk_size=1024\n",
    "Settings.embed_model=embed_model\n",
    "Settings.llm=llm"
   ]
  },
  {
   "cell_type": "code",
   "execution_count": null,
   "metadata": {},
   "outputs": [],
   "source": [
    "index=VectorStoreIndex.from_documents(documents=documents,embed_model=Settings.embed_model)\n",
    "# save the data \n",
    "index.storage_context.persist('../data/')\n"
   ]
  },
  {
   "cell_type": "code",
   "execution_count": null,
   "metadata": {},
   "outputs": [],
   "source": [
    "# load index from storage\n",
    "storage_context=StorageContext.from_defaults(persist_dir='../data/')\n",
    "index=load_index_from_storage(storage_context)\n",
    "\n",
    "# create a retriever or query engine \n",
    "retriever=index.as_retriever()\n",
    "query_engine=index.as_query_engine()\n"
   ]
  },
  {
   "cell_type": "code",
   "execution_count": 93,
   "metadata": {},
   "outputs": [
    {
     "data": {
      "text/plain": [
       "'When determining the constitutionality of a law, the following rules must be considered:\\n\\n1. A clear violation of the Constitution, a clear usurpation of power prohibited, is required to justify pronouncing an act of the legislative department unconstitutional and void.\\n2. Courts should never declare a statute void unless the nullity and invalidity of the act are placed beyond a reasonable doubt.\\n3. A reasonable doubt must be solved in favor of the legislative action, and the act sustained.\\n4. Legislative power, except where the Constitution has imposed limits upon it, is practically absolute.\\n5. Limitations upon legislative power are to be strictly construed and are not to be given effect as against the general power of the Legislature unless such limitations clearly inhibit the act in question.\\n6. The court should hesitate long and be convinced beyond a reasonable doubt before pronouncing an act of Congress invalid. The argument should amount almost to a demonstration. If doubt exists, the act should be sustained, and the presumption is in favor of its validity.\\n\\nIn general, the burden will be upon the party attempting to demonstrate the invalidity of the law. The court will consider whether the law falls within the subject presented to the Legislature and whether it is valid on its face.'"
      ]
     },
     "execution_count": 93,
     "metadata": {},
     "output_type": "execute_result"
    }
   ],
   "source": [
    "response=query_engine.query('what are the rules i should follow?')\n",
    "response.response"
   ]
  },
  {
   "cell_type": "markdown",
   "metadata": {},
   "source": [
    "# bot context "
   ]
  },
  {
   "cell_type": "code",
   "execution_count": null,
   "metadata": {},
   "outputs": [],
   "source": [
    "from llama_index.core.llms import ChatMessage, MessageRole\n",
    "from llama_index.core.prompts import ChatPromptTemplate\n",
    "from llama_index.core.memory import BaseMemory\n",
    "memory=BaseMemory()\n",
    "# Text QA Prompt\n",
    "chat_text_qa_msgs = [\n",
    "    ChatMessage(\n",
    "        role=MessageRole.SYSTEM,\n",
    "        content=(\n",
    "            \"\"\" \n",
    "            You are an experienced immigration lawyer providing detailed legal advice. \n",
    "            Carefully review the following documents to extract relevant information and address the client's question. \n",
    "            Analyze any legal regulations, risks, or implications that may apply, and provide guidance on the next steps.\n",
    "\n",
    "                Instructions:\n",
    "                1. Identify key legal issues or relevant regulations from the provided documents.\n",
    "                2. Explain how the information applies to the client’s situation.\n",
    "                3. Highlight any significant risks, legal obligations, or considerations the client should be aware of.\n",
    "                4. Offer clear advice on the next steps, considering short-term and long-term outcomes.\n",
    "                5. Note any additional documentation, evidence, or forms the client should prepare\n",
    "\n",
    "                Please provide a structured and thorough response, clearly addressing each point in a way that helps the client understand their legal standing and options.\n",
    "            \"\"\"\n",
    "        ),\n",
    "    ),\n",
    "    ChatMessage(\n",
    "        role=MessageRole.USER,\n",
    "        content=(\n",
    "            \"Context information is below.\\n\"\n",
    "            \"---------------------\\n\"\n",
    "            \"{context_str}\\n\"\n",
    "            \"---------------------\\n\"\n",
    "            \"Given the context information and not prior knowledge, \"\n",
    "            \"answer the query.\\n\"\n",
    "            \"Query: {query_str}\\n\"\n",
    "            \"Answer: \"\n",
    "        ),\n",
    "    ),\n",
    "]\n",
    "text_qa_template = ChatPromptTemplate(chat_text_qa_msgs)\n",
    "\n",
    "# Refine Prompt\n",
    "chat_refine_msgs = [\n",
    "    ChatMessage(\n",
    "        role=MessageRole.SYSTEM,\n",
    "        content=(\n",
    "            \"You are an expert Q&A system that strictly operates in two modes \"\n",
    "            \"when refining existing answers:\\n\"\n",
    "            \"1. **Rewrite** an original answer using the new context.\\n\"\n",
    "            \"2. **Repeat** the original answer if the new context isn't useful.\\n\"\n",
    "            \"Never reference the original answer or context directly in your answer.\\n\"\n",
    "            \"When in doubt, just repeat the original answer.\"\n",
    "        ),\n",
    "    ),\n",
    "    ChatMessage(\n",
    "        role=MessageRole.USER,\n",
    "        content=(\n",
    "            \"New Context: {context_msg}\\n\"\n",
    "            \"Query: {query_str}\\n\"\n",
    "            \"Original Answer: {existing_answer}\\n\"\n",
    "            \"New Answer: \"\n",
    "        ),\n",
    "    ),\n",
    "]\n",
    "refine_template = ChatPromptTemplate(chat_refine_msgs)\n"
   ]
  },
  {
   "cell_type": "code",
   "execution_count": 104,
   "metadata": {},
   "outputs": [
    {
     "name": "stdout",
     "output_type": "stream",
     "text": [
      "Based on the context information, here are some things you should avoid:\n",
      "\n",
      "1. **Registering invalid bonds**: As a Comptroller, you are advised that registering bonds that appear to be invalid would be a violation of the law and a disregard of your duty.\n",
      "2. **Fraudulent activities**: The documents suggest that certain actions or omissions could open up opportunities for fraud, particularly in the administration of land laws.\n",
      "3. **Misunderstanding tax obligations**: Insurance companies should be aware of their tax obligations, including annual State taxes and ad valorem taxes on real and personal property.\n",
      "4. **Ignoring patent land requirements**: To entitle a person to patent land purchased under the act of 1887, they must meet specific requirements, including \"occupancy\" of the land and \"residence as a home\" upon it for a period of three consecutive years.\n",
      "5. **Disregarding county judge's authority**: The county judge has the authority to draw warrants in favor of officers for costs due to them, even if the fine has not been paid.\n",
      "6. **Levying occupation taxes on insurance companies**: The Legislature has prohibited counties and municipalities from levying occupation taxes on insurance companies, and any attempt to do so would be unlawful.\n",
      "\n",
      "By avoiding these potential pitfalls, you can ensure compliance with the relevant laws and regulations and minimize the risk of legal issues or disputes.\n"
     ]
    }
   ],
   "source": [
    "print(\n",
    "    index.as_query_engine(\n",
    "        text_qa_template=text_qa_template, refine_template=refine_template\n",
    "    ).query(\"what are some things i sohuld avoid?\")\n",
    ")"
   ]
  },
  {
   "cell_type": "code",
   "execution_count": 110,
   "metadata": {},
   "outputs": [],
   "source": [
    "# include chat history and memory\n",
    "from llama_index.core.memory import ChatMemoryBuffer\n",
    "\n",
    "memory= ChatMemoryBuffer.from_defaults(token_limit=1500)\n",
    "chat_engine=index.as_chat_engine(\n",
    "    chat_mode='context',\n",
    "    memory=memory,\n",
    "    system_prompt=(text_qa_template,refine_template),\n",
    ")\n"
   ]
  },
  {
   "cell_type": "code",
   "execution_count": 113,
   "metadata": {},
   "outputs": [
    {
     "data": {
      "text/plain": [
       "\"Based on the provided context information, the latest law passed that I could find is the act of May 2, 1893, mentioned in the document. However, I couldn't find any specific details about what this law entails or what changes it brings. If you could provide more context or clarify what you are looking for, I'll do my best to help.\""
      ]
     },
     "execution_count": 113,
     "metadata": {},
     "output_type": "execute_result"
    }
   ],
   "source": [
    "response=chat_engine.chat('what was the latest law passed?')\n",
    "response.response"
   ]
  },
  {
   "cell_type": "code",
   "execution_count": 114,
   "metadata": {},
   "outputs": [
    {
     "data": {
      "text/plain": [
       "'According to the context information, the act of May 2, 1893, was passed on May 2, 1893.'"
      ]
     },
     "execution_count": 114,
     "metadata": {},
     "output_type": "execute_result"
    }
   ],
   "source": [
    "response=chat_engine.chat('when was it passed?')\n",
    "response.response"
   ]
  },
  {
   "cell_type": "code",
   "execution_count": 115,
   "metadata": {},
   "outputs": [
    {
     "data": {
      "text/plain": [
       "'Unfortunately, the provided context information does not give more details about the act of May 2, 1893. However, it does mention Chapter 84 of the Acts of 1893, which provides that counties in Texas have the authority to issue bonds for purchasing or constructing bridges for public purposes within the county or across a stream that constitutes a boundary line of a county.'"
      ]
     },
     "execution_count": 115,
     "metadata": {},
     "output_type": "execute_result"
    }
   ],
   "source": [
    "response=chat_engine.chat('can you tell me more')\n",
    "response.response"
   ]
  },
  {
   "cell_type": "code",
   "execution_count": null,
   "metadata": {},
   "outputs": [],
   "source": []
  }
 ],
 "metadata": {
  "kernelspec": {
   "display_name": "genai",
   "language": "python",
   "name": "python3"
  },
  "language_info": {
   "codemirror_mode": {
    "name": "ipython",
    "version": 3
   },
   "file_extension": ".py",
   "mimetype": "text/x-python",
   "name": "python",
   "nbconvert_exporter": "python",
   "pygments_lexer": "ipython3",
   "version": "3.10.15"
  }
 },
 "nbformat": 4,
 "nbformat_minor": 2
}
