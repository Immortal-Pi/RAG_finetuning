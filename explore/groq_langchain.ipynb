{
 "cells": [
  {
   "cell_type": "code",
   "execution_count": 1,
   "metadata": {},
   "outputs": [
    {
     "name": "stderr",
     "output_type": "stream",
     "text": [
      "USER_AGENT environment variable not set, consider setting it to identify your requests.\n"
     ]
    },
    {
     "data": {
      "text/plain": [
       "True"
      ]
     },
     "execution_count": 1,
     "metadata": {},
     "output_type": "execute_result"
    }
   ],
   "source": [
    "import os \n",
    "import streamlit\n",
    "from langchain_groq import ChatGroq\n",
    "from langchain_community.document_loaders import WebBaseLoader\n",
    "from langchain_community.embeddings import OllamaEmbeddings\n",
    "from langchain_community.vectorstores import FAISS\n",
    "from langchain_core.prompts import ChatPromptTemplate\n",
    "from langchain.chains.combine_documents import create_stuff_documents_chain\n",
    "from langchain.chains import create_retrieval_chain\n",
    "from langchain.text_splitter import RecursiveCharacterTextSplitter\n",
    "from langchain.chains import RetrievalQA\n",
    "import dotenv \n",
    "dotenv.load_dotenv()\n"
   ]
  },
  {
   "cell_type": "markdown",
   "metadata": {},
   "source": [
    "# login hugging face and setup llm"
   ]
  },
  {
   "cell_type": "code",
   "execution_count": 2,
   "metadata": {},
   "outputs": [
    {
     "name": "stderr",
     "output_type": "stream",
     "text": [
      "d:\\anaconda\\envs\\genai\\lib\\site-packages\\tqdm\\auto.py:21: TqdmWarning: IProgress not found. Please update jupyter and ipywidgets. See https://ipywidgets.readthedocs.io/en/stable/user_install.html\n",
      "  from .autonotebook import tqdm as notebook_tqdm\n"
     ]
    },
    {
     "name": "stdout",
     "output_type": "stream",
     "text": [
      "Token is valid (permission: fineGrained).\n",
      "Your token has been saved in your configured git credential helpers (manager).\n",
      "Your token has been saved to C:\\Users\\26amr\\.cache\\huggingface\\token\n",
      "Login successful\n"
     ]
    }
   ],
   "source": [
    "\n",
    "from huggingface_hub import login\n",
    "llm=ChatGroq(\n",
    "    groq_api_key=os.getenv('GROQ_API_KEY'),\n",
    "    model_name='llama-3.1-70b-versatile',\n",
    "    temperature=0.2,\n",
    "    \n",
    "    \n",
    ")\n",
    "login(token=os.getenv('HUGGINGFACEHUB_API_TOKEN'),add_to_git_credential=True)\n"
   ]
  },
  {
   "cell_type": "markdown",
   "metadata": {},
   "source": [
    "# split the data into chunks "
   ]
  },
  {
   "cell_type": "code",
   "execution_count": 3,
   "metadata": {},
   "outputs": [],
   "source": [
    "from llama_index.core import VectorStoreIndex, SimpleDirectoryReader, load_index_from_storage, StorageContext\n",
    "from llama_index.vector_stores.faiss import FaissVectorStore\n",
    "# import faiss\n",
    "# embeddings=OllamaEmbeddings()\n",
    "# loader=WebBaseLoader('https://en.wikipedia.org/wiki/Elon_Musk')\n",
    "# docs=loader.load()\n",
    "# text_splitter=RecursiveCharacterTextSplitter(chunk_size=1000,chunk_overlap=200)\n",
    "# documents=text_splitter.split_documents(docs)\n",
    "# print(documents)\n",
    "\n",
    "documents=SimpleDirectoryReader('../data/').load_data()\n",
    "\n"
   ]
  },
  {
   "cell_type": "code",
   "execution_count": 4,
   "metadata": {},
   "outputs": [],
   "source": [
    "import faiss\n",
    "d=1536\n",
    "faiss_index=faiss.IndexFlatL2(d)\n",
    "from llama_index.embeddings.huggingface import HuggingFaceEmbedding\n",
    "from llama_index.core import VectorStoreIndex, SimpleDirectoryReader \n",
    "from llama_index.vector_stores.faiss import FaissVectorStore\n",
    "from llama_index.core import Settings\n",
    "embed_model=HuggingFaceEmbedding(\n",
    "    model_name='BAAI/bge-small-en-v1.5'\n",
    ")\n",
    "# document_text=[doc.page_content for doc in documents]\n",
    "# embeddings=[embed_model.embed_query(text) for text in document_text]\n",
    "\n"
   ]
  },
  {
   "cell_type": "code",
   "execution_count": 5,
   "metadata": {},
   "outputs": [],
   "source": [
    "from llama_index.core import Settings\n",
    "\n",
    "Settings.chunk_size=1024\n",
    "Settings.embed_model=embed_model\n",
    "Settings.llm=llm"
   ]
  },
  {
   "cell_type": "code",
   "execution_count": 6,
   "metadata": {},
   "outputs": [],
   "source": [
    "index=VectorStoreIndex.from_documents(documents=documents,embed_model=Settings.embed_model)\n",
    "# save the data \n",
    "index.storage_context.persist('../data/')\n"
   ]
  },
  {
   "cell_type": "code",
   "execution_count": 7,
   "metadata": {},
   "outputs": [],
   "source": [
    "# load index from storage\n",
    "storage_context=StorageContext.from_defaults(persist_dir='../data/')\n",
    "index=load_index_from_storage(storage_context)\n",
    "\n",
    "# create a retriever or query engine \n",
    "retriever=index.as_retriever()\n",
    "query_engine=index.as_query_engine()\n"
   ]
  },
  {
   "cell_type": "code",
   "execution_count": 8,
   "metadata": {},
   "outputs": [
    {
     "name": "stderr",
     "output_type": "stream",
     "text": [
      "d:\\anaconda\\envs\\genai\\lib\\site-packages\\llama_index\\llms\\langchain\\base.py:95: LangChainDeprecationWarning: The method `BaseChatModel.predict_messages` was deprecated in langchain-core 0.1.7 and will be removed in 1.0. Use :meth:`~invoke` instead.\n",
      "  lc_message = self._llm.predict_messages(messages=lc_messages, **kwargs)\n"
     ]
    },
    {
     "data": {
      "text/plain": [
       "\"To determine domicile, the rules are as follows: \\n\\n1. A person's residence is the place of their domicile, or the place where their residence is fixed without any present intention of removing therefrom.\\n2. A person may acquire a domicile if they are personally present in a place and elect that as their home, even if they never designed to remain there always, but designed at the end of some short time to remove and acquire another.\\n3. It is sufficient if they intend to make it their home in good faith for the time being, to the exclusion of all others.\\n4. It is not necessary that there should be an intention to remain permanently at the chosen domicile.\""
      ]
     },
     "execution_count": 8,
     "metadata": {},
     "output_type": "execute_result"
    }
   ],
   "source": [
    "response=query_engine.query('what are the rules i should follow?')\n",
    "response.response"
   ]
  },
  {
   "cell_type": "markdown",
   "metadata": {},
   "source": [
    "# bot context "
   ]
  },
  {
   "cell_type": "code",
   "execution_count": 9,
   "metadata": {},
   "outputs": [],
   "source": [
    "from llama_index.core.llms import ChatMessage, MessageRole\n",
    "from llama_index.core.prompts import ChatPromptTemplate\n",
    "from llama_index.core.memory import BaseMemory\n",
    "# memory=BaseMemory()\n",
    "language= 'French'\n",
    "# Text QA Prompt\n",
    "chat_text_qa_msgs = [\n",
    "    ChatMessage(\n",
    "        role=MessageRole.SYSTEM,\n",
    "        content=(\n",
    "            \"\"\" \n",
    "            You are an experienced immigration lawyer providing detailed legal advice in {language}. \n",
    "            Carefully review the following documents to extract relevant information and address the client's question \n",
    "            Analyze any legal regulations, risks, or implications that may apply, and provide guidance on the next steps.\n",
    "\n",
    "                Instructions:\n",
    "                1. Identify key legal issues or relevant regulations from the provided documents.\n",
    "                2. Explain how the information applies to the client’s situation.\n",
    "                3. Highlight any significant risks, legal obligations, or considerations the client should be aware of.\n",
    "                4. Offer clear advice on the next steps, considering short-term and long-term outcomes.\n",
    "                5. Note any additional documentation, evidence, or forms the client should prepare\n",
    "\n",
    "                Please provide a structured and thorough response, clearly addressing each point in a way that helps the client understand their legal standing and options in {language}.\n",
    "            \"\"\"\n",
    "        ),\n",
    "    ),\n",
    "    ChatMessage(\n",
    "        role=MessageRole.USER,\n",
    "        content=(\n",
    "            \"Context information is below.\\n\"\n",
    "            \"---------------------\\n\"\n",
    "            \"{context_str}\\n\"\n",
    "            \"---------------------\\n\"\n",
    "            \"Given the context information and not prior knowledge, \"\n",
    "            \"answer the query.\\n\"\n",
    "            \"Query: {query_str}\\n\"\n",
    "            \"Answer: \"\n",
    "        ),\n",
    "    ),\n",
    "]\n",
    "\n",
    "text_qa_template = ChatPromptTemplate(chat_text_qa_msgs)\n",
    "\n",
    "# Refine Prompt\n",
    "chat_refine_msgs = [\n",
    "    ChatMessage(\n",
    "        role=MessageRole.SYSTEM,\n",
    "        content=(\n",
    "            \"You are an expert Q&A system that strictly operates in two modes \"\n",
    "            \"when refining existing answers:\\n\"\n",
    "            \"1. **Rewrite** an original answer using the new context.\\n\"\n",
    "            \"2. **Repeat** the original answer if the new context isn't useful.\\n\"\n",
    "            \"Never reference the original answer or context directly in your answer.\\n\"\n",
    "            \"When in doubt, just repeat the original answer.\"\n",
    "        ),\n",
    "    ),\n",
    "    ChatMessage(\n",
    "        role=MessageRole.USER,\n",
    "        content=(\n",
    "            \"New Context: {context_msg}\\n\"\n",
    "            \"Query: {query_str}\\n\"\n",
    "            \"Original Answer: {existing_answer}\\n\"\n",
    "            \"New Answer: \"\n",
    "        ),\n",
    "    ),\n",
    "]\n",
    "refine_template = ChatPromptTemplate(chat_refine_msgs)\n"
   ]
  },
  {
   "cell_type": "code",
   "execution_count": 10,
   "metadata": {},
   "outputs": [
    {
     "data": {
      "text/plain": [
       "ChatMessage(role=<MessageRole.SYSTEM: 'system'>, content=\" \\n            You are an experienced immigration lawyer providing detailed legal advice in {language}. \\n            Carefully review the following documents to extract relevant information and address the client's question \\n            Analyze any legal regulations, risks, or implications that may apply, and provide guidance on the next steps.\\n\\n                Instructions:\\n                1. Identify key legal issues or relevant regulations from the provided documents.\\n                2. Explain how the information applies to the client’s situation.\\n                3. Highlight any significant risks, legal obligations, or considerations the client should be aware of.\\n                4. Offer clear advice on the next steps, considering short-term and long-term outcomes.\\n                5. Note any additional documentation, evidence, or forms the client should prepare\\n\\n                Please provide a structured and thorough response, clearly addressing each point in a way that helps the client understand their legal standing and options in {language}.\\n            \", additional_kwargs={})"
      ]
     },
     "execution_count": 10,
     "metadata": {},
     "output_type": "execute_result"
    }
   ],
   "source": [
    "chat_text_qa_msgs[0]"
   ]
  },
  {
   "cell_type": "code",
   "execution_count": 11,
   "metadata": {},
   "outputs": [
    {
     "name": "stdout",
     "output_type": "stream",
     "text": [
      "Based on the provided context information, here are some things you should avoid:\n",
      "\n",
      "1. **Registering invalid bonds**: As the Comptroller, you have ministerial and executive functions, and registering invalid bonds knowing them to be invalid would be a violation of the law and a disregard of your duty (Page 50, REPORT OF ATTORNEY GENERAL).\n",
      "\n",
      "2. **Paying officers' costs without sufficient funds**: While it is competent for the County Judge to draw a warrant in favor of officers for costs due to them when sufficient funds are available, you should avoid doing so without ensuring that the amount of costs has been paid (ATTOHNEY GENERAL's OFFICE, AUSTIN, April 14, 1893).\n",
      "\n",
      "3. **Ignoring the law governing expenditures**: When auditing and paying claims, ensure that there is a law authorizing the expenditure and an appropriation by the Legislature to cover the costs (ATTORNEY GENERAL'S OFFICE, AUSTIN, June 22, 1893).\n",
      "\n",
      "4. **Disregarding the authority of the Printing Board**: The Printing Board has the authority and duty to examine and audit claims against the State for printing department reports. You should not issue a warrant without the approval of the Board (ATTORNEY GENERAL'S OFFICE, AUSTIN, June 22, 1893).\n",
      "\n",
      "5. **Failing to follow the correct procedure for filling vacancies**: In counties with a population of less than eight thousand inhabitants, the power to fill vacancies in the office of District and County Clerk is lodged in the Commissioners' Court. You should avoid appointing someone to this position without following the correct procedure (ATTORNEY GENERAL'S OFFICE, AUSTIN, June 26, 1893).\n",
      "\n",
      "By avoiding these potential pitfalls, you can ensure that you are acting in accordance with the law and fulfilling your duties as Comptroller.\n"
     ]
    }
   ],
   "source": [
    "print(\n",
    "    index.as_query_engine(\n",
    "        text_qa_template=text_qa_template, refine_template=refine_template\n",
    "    ).query(\"what are some things i sohuld avoid?\")\n",
    ")"
   ]
  },
  {
   "cell_type": "code",
   "execution_count": 12,
   "metadata": {},
   "outputs": [],
   "source": [
    "# include chat history and memory\n",
    "from llama_index.core.memory import ChatMemoryBuffer\n",
    "\n",
    "memory= ChatMemoryBuffer.from_defaults(token_limit=1000)\n",
    "chat_engine=index.as_chat_engine(\n",
    "    chat_mode='context',\n",
    "    memory=memory,\n",
    "    system_prompt=(text_qa_template,refine_template),\n",
    ")\n"
   ]
  },
  {
   "cell_type": "code",
   "execution_count": 13,
   "metadata": {},
   "outputs": [
    {
     "data": {
      "text/plain": [
       "'The latest law passed was \"An act to amend article 2578 and article 2581 of chapter 10 of the Revised Statutes of the State of Texas, and to add thereto article 2589a, providing for a hypothecation of lands belonging to an estate in the hands of a guardian, and article 2589b providing for the novation of existing indebtedness of estates in guardianship.\"'"
      ]
     },
     "execution_count": 13,
     "metadata": {},
     "output_type": "execute_result"
    }
   ],
   "source": [
    "response=chat_engine.chat('what was the latest law passed?')\n",
    "response.response"
   ]
  },
  {
   "cell_type": "code",
   "execution_count": 14,
   "metadata": {},
   "outputs": [
    {
     "data": {
      "text/plain": [
       "'The act was approved May 2, 1893.'"
      ]
     },
     "execution_count": 14,
     "metadata": {},
     "output_type": "execute_result"
    }
   ],
   "source": [
    "response=chat_engine.chat('when was it passed?')\n",
    "response.response"
   ]
  },
  {
   "cell_type": "code",
   "execution_count": 15,
   "metadata": {},
   "outputs": [
    {
     "data": {
      "text/plain": [
       "'The act \"An act to amend article 2578 and article 2581 of chapter 10 of the Revised Statutes of the State of Texas, and to add thereto article 2589a, providing for a hypothecation of lands belonging to an estate in the hands of a guardian, and article 2589b providing for the novation of existing indebtedness of estates in guardianship\" was passed in response to a message from the Governor, which stated that under existing law, real property under administration or guardianship could not be sold on longer time than twelve months, and that it would be well to permit real estate to be sold on a longer time with good security under suitable restrictions.\\n\\nThe act was part of the General Laws of the Special Session of the Twenty-second Legislature. However, the question of its constitutionality was raised, as the subject of the act was not mentioned in the Governor\\'s proclamation calling the special session.'"
      ]
     },
     "execution_count": 15,
     "metadata": {},
     "output_type": "execute_result"
    }
   ],
   "source": [
    "response=chat_engine.chat('can you tell me more')\n",
    "response.response"
   ]
  },
  {
   "cell_type": "code",
   "execution_count": 16,
   "metadata": {},
   "outputs": [
    {
     "data": {
      "text/plain": [
       "\"Based on the context information, it appears that some things you should avoid in Texas include:\\n\\n1. Becoming a surety on the bond of any county officer, as it is against public policy for a county commissioner to become a surety on the bond of any county officer.\\n2. Contracting a debt against the county without the consent and authority of the Commissioners Court, as the city authorities had no power to contract a debt against the county without the consent and authority of the Commissioners Court.\\n3. Issuing county bonds that are not sold, but are paid directly to the contractor, as the county treasurer is not entitled to commissions on bonds paid directly to the contractor.\\n\\nIt's also worth noting that the context information is from the late 19th century, so some of these things may not be relevant today.\""
      ]
     },
     "execution_count": 16,
     "metadata": {},
     "output_type": "execute_result"
    }
   ],
   "source": [
    "response=chat_engine.chat('what are some things i should avoid in texas?')\n",
    "response.response"
   ]
  },
  {
   "cell_type": "code",
   "execution_count": 17,
   "metadata": {},
   "outputs": [
    {
     "name": "stdout",
     "output_type": "stream",
     "text": [
      "Based on the context information, it appears that some things you should avoid include:\n",
      "\n",
      "1. Registering bonds that are invalid, as the Comptroller has ministerial and executive functions and should not register bonds that are invalid.\n",
      "2. Paying officers' costs without proper authorization, as the County Judge should only pay officers' costs after the amount of costs has been paid and the fine has been paid.\n",
      "3. Approving claims for advertising in newspapers without proper authorization, as the Printing Board has the authority and duty to examine and audit claims against the State for printing department reports.\n",
      "4. Filling vacancies in the office of District Clerk or County Clerk without proper authorization, as the authority to fill vacancies is vested in the District Judge or the Commissioners' Court, depending on the population of the county.\n",
      "\n",
      "It's also worth noting that these are specific to the context of Texas law in the late 19th century, and may not be relevant today.\n"
     ]
    }
   ],
   "source": [
    "response=chat_engine.chat('what are some things i should avoid?')\n",
    "print(response.response)"
   ]
  },
  {
   "cell_type": "code",
   "execution_count": 18,
   "metadata": {},
   "outputs": [
    {
     "name": "stdout",
     "output_type": "stream",
     "text": [
      "There is no 7th point mentioned in the context information. The context information appears to be a collection of letters and opinions from the Attorney General's office in Texas, and it does not contain a numbered list of points. If you could provide more context or clarify what you are referring to, I would be happy to try and assist you further.\n"
     ]
    }
   ],
   "source": [
    "response=chat_engine.chat('could you elaborate on the 7th point')\n",
    "print(response.response)"
   ]
  },
  {
   "cell_type": "code",
   "execution_count": 19,
   "metadata": {},
   "outputs": [
    {
     "name": "stdout",
     "output_type": "stream",
     "text": [
      "If you don't follow the protocols, it may lead to invalid or unenforceable actions. For example, if a bond is issued without proper authorization or if a canvassing board does not follow the proper procedures, the bond or the election results may be deemed invalid.\n",
      "\n",
      "Additionally, if you don't follow the protocols, you may be held liable for any damages or consequences that arise from your actions. For instance, if a county judge fails to follow the proper procedures for paying officers' costs, they may be personally liable for any improper payments.\n",
      "\n",
      "It's also worth noting that failing to follow protocols can undermine the integrity of the electoral process and the administration of justice. It's essential to follow established protocols and procedures to ensure that actions are valid, enforceable, and in the best interest of the public.\n"
     ]
    }
   ],
   "source": [
    "response=chat_engine.chat('what if i dont follow the protocols?')\n",
    "print(response.response)"
   ]
  },
  {
   "cell_type": "markdown",
   "metadata": {},
   "source": [
    "# change language"
   ]
  },
  {
   "cell_type": "code",
   "execution_count": 20,
   "metadata": {},
   "outputs": [],
   "source": [
    "# try"
   ]
  },
  {
   "cell_type": "code",
   "execution_count": null,
   "metadata": {},
   "outputs": [],
   "source": []
  },
  {
   "cell_type": "code",
   "execution_count": null,
   "metadata": {},
   "outputs": [],
   "source": []
  },
  {
   "cell_type": "code",
   "execution_count": null,
   "metadata": {},
   "outputs": [],
   "source": []
  }
 ],
 "metadata": {
  "kernelspec": {
   "display_name": "genai",
   "language": "python",
   "name": "python3"
  },
  "language_info": {
   "codemirror_mode": {
    "name": "ipython",
    "version": 3
   },
   "file_extension": ".py",
   "mimetype": "text/x-python",
   "name": "python",
   "nbconvert_exporter": "python",
   "pygments_lexer": "ipython3",
   "version": "3.10.15"
  }
 },
 "nbformat": 4,
 "nbformat_minor": 2
}
